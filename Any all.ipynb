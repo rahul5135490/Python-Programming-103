{
 "cells": [
  {
   "cell_type": "code",
   "execution_count": 2,
   "id": "9b8d21c7",
   "metadata": {},
   "outputs": [
    {
     "name": "stdout",
     "output_type": "stream",
     "text": [
      "False\n",
      "True\n",
      "True\n"
     ]
    }
   ],
   "source": [
    "# Since all are false, false is returned\n",
    "print (any([False, False, False, False]))\n",
    " \n",
    "# Here the method will short-circuit at the\n",
    "# second item (True) and will return True.\n",
    "print (any([False, True, False, False]))\n",
    " \n",
    "# Here the method will short-circuit at the\n",
    "# first (True) and will return True.\n",
    "print (any([True, False, False, False]))"
   ]
  },
  {
   "cell_type": "code",
   "execution_count": 3,
   "id": "9ef02abc",
   "metadata": {},
   "outputs": [
    {
     "name": "stdout",
     "output_type": "stream",
     "text": [
      "True\n",
      "False\n",
      "False\n"
     ]
    }
   ],
   "source": [
    "# Here all the iterables are True so all\n",
    "# will return True and the same will be printed\n",
    "print (all([True, True, True, True]))\n",
    " \n",
    "# Here the method will short-circuit at the\n",
    "# first item (False) and will return False.\n",
    "print (all([False, True, True, False]))\n",
    " \n",
    "# This statement will return False, as no\n",
    "# True is found in the iterables\n",
    "print (all([False, False, False]))"
   ]
  },
  {
   "cell_type": "code",
   "execution_count": 4,
   "id": "b9ef2442",
   "metadata": {},
   "outputs": [
    {
     "name": "stdout",
     "output_type": "stream",
     "text": [
      "See whether at least one number is divisible by 5 in list 1=>\n",
      "True\n"
     ]
    }
   ],
   "source": [
    "# This code explains how can we\n",
    "# use 'any' function on list\n",
    "list1 = []\n",
    "list2 = []\n",
    " \n",
    "# Index ranges from 1 to 10 to multiply\n",
    "for i in range(1,11):\n",
    "    list1.append(4*i)\n",
    " \n",
    "# Index to access the list2 is from 0 to 9\n",
    "for i in range(0,10):\n",
    "    list2.append(list1[i]%5==0)\n",
    " \n",
    "print('See whether at least one number is divisible by 5 in list 1=>')\n",
    "print(any(list2))"
   ]
  },
  {
   "cell_type": "code",
   "execution_count": null,
   "id": "ff05e876",
   "metadata": {},
   "outputs": [],
   "source": []
  }
 ],
 "metadata": {
  "kernelspec": {
   "display_name": "Python 3 (ipykernel)",
   "language": "python",
   "name": "python3"
  },
  "language_info": {
   "codemirror_mode": {
    "name": "ipython",
    "version": 3
   },
   "file_extension": ".py",
   "mimetype": "text/x-python",
   "name": "python",
   "nbconvert_exporter": "python",
   "pygments_lexer": "ipython3",
   "version": "3.9.13"
  }
 },
 "nbformat": 4,
 "nbformat_minor": 5
}
